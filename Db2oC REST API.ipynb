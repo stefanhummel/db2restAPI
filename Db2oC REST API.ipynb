{
 "cells": [
  {
   "cell_type": "markdown",
   "metadata": {},
   "source": [
    "#### Copyright IBM All Rights Reserved."
   ]
  },
  {
   "cell_type": "markdown",
   "metadata": {},
   "source": [
    "# Using the IBM Db2 on Cloud REST API\n",
    "\n",
    "This notebook includes basic Python examples for the REST API to Db2 on Cloud for exploring data.\n",
    "\n",
    "The official documentation of the DB2 RestAPI ist here:\n",
    "https://cloud.ibm.com/apidocs/db2-on-cloud\n",
    "\n",
    "\n"
   ]
  },
  {
   "cell_type": "markdown",
   "metadata": {},
   "source": [
    "## Prerequisites:\n",
    "1. Python 3.6 and above\n",
    "2. Db2 on Cloud instance (using free-tier option)\n",
    "3. Data already loaded in your Db2 instance\n",
    "4. Db2 connection credentials on hand"
   ]
  },
  {
   "cell_type": "markdown",
   "metadata": {},
   "source": [
    "## Required libraries\n",
    "\n",
    "To run the examples in this notebook, you need to install the following libraries:\n",
    "\n",
    "- `pandas`: For data manipulation and analysis.\n",
    "- `requests`: For making HTTP calls.\n",
    "\n",
    "We also use the `pandas` library. This library should already be installed if you are able to use this notebook."
   ]
  },
  {
   "cell_type": "markdown",
   "metadata": {},
   "source": [
    "## 1. Setting up\n",
    "\n",
    "We are going to import the required libraries and create a variable that stores the base URL for the REST API. Update this variable to a value that matches your environment."
   ]
  },
  {
   "cell_type": "code",
   "execution_count": null,
   "metadata": {},
   "outputs": [],
   "source": [
    "import pandas as pd\n",
    "import requests\n",
    "from pandas.io.json import json_normalize"
   ]
  },
  {
   "cell_type": "markdown",
   "metadata": {},
   "source": [
    "### Load Db2 Connection Information\n",
    "The first step is to load the Db2 connection information into this notebook. Copy your service credentials provided in JSON format into the curly brackets. The definition of db2id should look like this:\n",
    "\n",
    "```json\n",
    "db2id = {\n",
    "  \"db\": \"myDatabaseName\",\n",
    "  \"host\": \"anydbservice.mycloud.net\",\n",
    "  \"hostname\": \"anydbservice.mycloud.net\",\n",
    "  \"https_url\": \"https://anydbservice.mycloud.net\",\n",
    "  \"port\": 50000,\n",
    "  \"userid\" : \"xyz12345\",\n",
    "  \"password\" :\"secretPassword\"\n",
    "}\n",
    "```"
   ]
  },
  {
   "cell_type": "code",
   "execution_count": null,
   "metadata": {},
   "outputs": [],
   "source": [
    "db2id = {\n",
    "}\n"
   ]
  },
  {
   "cell_type": "markdown",
   "metadata": {},
   "source": [
    "### Calling Restful Services\n",
    "\n",
    "There are two types of RESTful calls that are used with Db2 on Cloud:\n",
    "\n",
    "* **`GET`** - Get results from a SQL request\n",
    "* **`POST`** - Request an Access token, or issue an SQL command\n",
    "\n",
    "All RESTful calls require the host IP address and the service URL:\n",
    "* **`host`** - This is the IP address of the machine that is hosting Db2 on Cloud\n",
    "* **`api`** - The API library that is being used to communicate with Db2 on Cloud\n",
    "* **`service`** - The service (API) that is being requested. \n",
    "\n",
    "As mentioned previously, the API library that is used for Db2 on Cloud is `/dbapi/v3`. The full URL has the following format:\n",
    "\n",
    "```\n",
    "https:// + host + api + service\n",
    "```\n",
    "\n",
    "If your host was xyz.abc.com and we are using the `/auth/tokens` service, the full URL would be:\n",
    "\n",
    "```\n",
    "https://xyz.abc.com/dbapi/v3/auth/tokens\n",
    "```\n",
    "\n",
    "This URL is then placed into a RESTful call that has one of the following formats:\n",
    "\n",
    "```\n",
    "RESTful.call( host + api + service, json=data)\n",
    "RESTful.call( host + api + service, headers=tokens, json=data)\n",
    "```\n",
    "\n",
    "The first form of the RESTful call sends parameters via the **`json=data`** keyword. This format of RESTful call is used to generate an access token. The second form of the RESTful call will supply parameters through the **`json=data`** keyword, and also supply the access token via the **`headers=tokens`** keyword. Any SQL request needs this access token to be supplied, otherwise the Db2 on Cloud service will not be able to authenticate the RESTful call."
   ]
  },
  {
   "cell_type": "markdown",
   "metadata": {},
   "source": [
    "### Generating an Access Token\n",
    "The first step in generating an access token is to build the URL for the service. From a programming perspective, the host URL will be combined with the API library to form the stub for all future RESTful URL requests. The HOST IP address is derived from the Db2 connect parameters."
   ]
  },
  {
   "cell_type": "code",
   "execution_count": null,
   "metadata": {},
   "outputs": [],
   "source": [
    "api = '/dbapi/v3'\n",
    "host = db2id['https_url'] + api\n",
    "print( \"Host URL = \" + host)"
   ]
  },
  {
   "cell_type": "markdown",
   "metadata": {},
   "source": [
    "Next we need to build the JSON parameter structure required for the authentication call. This JSON parameter needs to contain the following information:\n",
    "```json\n",
    "{\n",
    "    \"userid\" : \"xyz12345\",\n",
    "    \"password\" :\"randompassword\"\n",
    "}\n",
    "```\n",
    "The next statement will create a Python variable that contains your userid and password from in the Db2 connection."
   ]
  },
  {
   "cell_type": "code",
   "execution_count": null,
   "metadata": {},
   "outputs": [],
   "source": [
    "userinfo = {\n",
    "    \"userid\" : db2id['username'],\n",
    "    \"password\" : db2id['password']\n",
    "}"
   ]
  },
  {
   "cell_type": "markdown",
   "metadata": {},
   "source": [
    "The final step before we issue the RESTful call is to load the Python RESTful library into the notebook and define what service we are going to use in our RESTful call."
   ]
  },
  {
   "cell_type": "code",
   "execution_count": null,
   "metadata": {},
   "outputs": [],
   "source": [
    "import requests\n",
    "service = \"/auth/tokens\""
   ]
  },
  {
   "cell_type": "markdown",
   "metadata": {},
   "source": [
    "The final format of the RESTful call to request an access token looks like this:\n",
    "\n",
    "RESTful.post(host + service,json=userinfo)\n",
    "If this call returns successfully, the post request will return a structure that looks like this:\n",
    "\n",
    "{\n",
    "  \"userid\": \"STRING\",\n",
    "  \"token\": \"STRING\"\n",
    "}\n",
    "Normally the requests call would be assigned to a variable, i.e x = requests.post(). A quick test to see if the RESTful call was successful is to compare x.ok to True. It is also good coding practice to surround the RESTful calls in a try/except block to catch any major errors that may occur.\n",
    "\n",
    "Execute the next statement to retrieve an access token."
   ]
  },
  {
   "cell_type": "code",
   "execution_count": null,
   "metadata": {},
   "outputs": [],
   "source": [
    "r = requests.post(host + service, json=userinfo)"
   ]
  },
  {
   "cell_type": "markdown",
   "metadata": {},
   "source": [
    "We check to see if the results of the call are okay. OK means that an HTTP return code of 200 was returned from the service which means that a valid call was made and that it was successful. If the HTTP return code is anything else, you would get a value of False."
   ]
  },
  {
   "cell_type": "code",
   "execution_count": null,
   "metadata": {},
   "outputs": [],
   "source": [
    "r.ok"
   ]
  },
  {
   "cell_type": "markdown",
   "metadata": {},
   "source": [
    "The other option is to view the HTTP return code. Some of the possible values are:\n",
    "* 400 - Bad request which means the parameters sent were incorrect or missing\n",
    "* 401 - Unauthorized request\n",
    "* 403 - Forbidden - Probably the wrong service or URL\n",
    "* 404 - Not found - Probably the wrong service or URL\n",
    "\n",
    "The `401` code is returned from the `/auth/tokens` service when an incorrect userid or password are sent to it. The previous call succeeded, so we can check the return code using `r.status_code`. "
   ]
  },
  {
   "cell_type": "code",
   "execution_count": null,
   "metadata": {},
   "outputs": [],
   "source": [
    "r.status_code"
   ]
  },
  {
   "cell_type": "markdown",
   "metadata": {},
   "source": [
    "Since the status code is 200, we can examine the results returned by the RESTful call by checking the json structure in the answer set since this will contain the access token."
   ]
  },
  {
   "cell_type": "code",
   "execution_count": null,
   "metadata": {},
   "outputs": [],
   "source": [
    "r.json()"
   ]
  },
  {
   "cell_type": "markdown",
   "metadata": {},
   "source": [
    "Now we can assign the access token to a variable that we will use for all of the remaining calls."
   ]
  },
  {
   "cell_type": "code",
   "execution_count": null,
   "metadata": {},
   "outputs": [],
   "source": [
    "access_token = r.json()['token']"
   ]
  },
  {
   "cell_type": "markdown",
   "metadata": {},
   "source": [
    "The access token is valid for about an hour which means that you will need to refresh it if you are starting off in the middle of a notebook after having been away for a while. The next statement will create some invalid credentials and display the RESTful code and the JSON error structure that is returned."
   ]
  },
  {
   "cell_type": "markdown",
   "metadata": {},
   "source": [
    "### Request Access Token Routine\n",
    "To simplify the process of getting an access token, the following Python routine will take the `db2id` structure and return an access token. In the event of an error, the routine will print the error message and return `None`. Note that the API library is imbedded in the routine so that if the API changes, the code must be updated."
   ]
  },
  {
   "cell_type": "code",
   "execution_count": null,
   "metadata": {},
   "outputs": [],
   "source": [
    "def get_token(db2id):\n",
    "    \n",
    "    import requests\n",
    "    \n",
    "    # Set up structures required for the RESTful call\n",
    "    api = '/dbapi/v4'\n",
    "    service = \"/auth/tokens\"\n",
    "    host = db2id['https_url'] + api\n",
    "    userinfo = {\n",
    "        \"userid\" : db2id['username'],\n",
    "        \"password\" : db2id['password']\n",
    "    }\n",
    "    \n",
    "    # Call the RESTful service\n",
    "    try:\n",
    "        r = requests.post(host + service, json=userinfo)\n",
    "    except Exception as err:\n",
    "        print(\"RESTful call failed. Detailed information follows.\")\n",
    "        print(err)\n",
    "        return None\n",
    "    \n",
    "    # Check for Invalid credentials\n",
    "    if (r.status_code == 401): # There was an error with the authentication\n",
    "        print(\"RESTful called failed.\")\n",
    "        message = r.json()['message']\n",
    "        print(message)\n",
    "        return None\n",
    "    \n",
    "    # Check for anything other than 200/401\n",
    "    if (r.status_code != 200): # Some other failure\n",
    "        print(\"RESTful called failed. Detailed information follows.\")\n",
    "        print(r.json())\n",
    "        return None\n",
    "    \n",
    "    # Retrieve the access token\n",
    "    try:\n",
    "        access_token = r.json()['token']\n",
    "    except:\n",
    "        print(\"RESTful call did not return an access token.\")\n",
    "        print(r.json())\n",
    "        return None\n",
    "    \n",
    "    return access_token"
   ]
  },
  {
   "cell_type": "markdown",
   "metadata": {},
   "source": [
    "From a convenience perspective, we can add the access token to the Db2 credentials that we have. This way we only need to pass the Db2id to other routines rather than having the access token and the Db2id."
   ]
  },
  {
   "cell_type": "code",
   "execution_count": null,
   "metadata": {},
   "outputs": [],
   "source": [
    "db2id['access_token'] = get_token(db2id)"
   ]
  },
  {
   "cell_type": "markdown",
   "metadata": {},
   "source": [
    "### Executing SQL Statements\n",
    "There are two steps required to access data from Db2 on Cloud. The first RESTful call will post the SQL statements to Db2 on Cloud to be executed. It is possible to run multiple statements at once, but for the purposes of this lab we will only submit one statement at a time. \n",
    "\n",
    "The structure of the SQL request is:\n",
    "```json\n",
    "{\n",
    "    \"commands\" : \"sql\",\n",
    "    \"limit\" : x,\n",
    "    \"separator\" : \";\",\n",
    "    \"stop_on_error\" : \"yes\"\n",
    "}\n",
    "\n",
    "```\n",
    "The parameters are set as follows:\n",
    "\n",
    "* commands - The SQL script to be executed (could be multiple statements).\n",
    "* limit - Maximum number of rows that will be fetched for each result set.\n",
    "* separator - SQL statement terminator. A character that is used to mark the end of a SQL statement when the provided SQL script contains multiple statements.\n",
    "* stop_on_error - If 'yes', the job stops executing at the first statement that returns an error. If 'no', the job continues executing if one or more statements returns an error.\n",
    "\n",
    "The service that is called to execute SQL statements is `/sql_jobs`. The RESTful post request has following format:\n",
    "```\n",
    "request.post(host + service, headers=authtoken, json=sql)\n",
    "```\n",
    "The `headers=authtoken` contains the authentication token that was retrieved in the first step and `json=sql` refers to the SQL statement and parameters required to execute it.\n",
    "\n",
    "The value that is returned from the service is:\n",
    "```json\n",
    "{\n",
    "  \"id\": \"STRING\",\n",
    "  \"commands_count\": \"INTEGER\",\n",
    "  \"limit\": \"INTEGER\"\n",
    "}\n",
    "```\n",
    "The important piece of information is the `id` field which we need to track the execution of the SQL command(s). The first step that we need to take is to create the authentication header. The header has the format:\n",
    "```json\n",
    "{'Authorization': \"Bearer \" + token, 'X-DB-Profile': profile_name}\n",
    "```\n",
    "The format may look strange but this is the standard for passing tokens between a client and server. The `profile_name` is defined as part of the Db2 Console, which in this case just translates to the database name.\n",
    "\n",
    "The next statement will create the authentication header."
   ]
  },
  {
   "cell_type": "code",
   "execution_count": null,
   "metadata": {},
   "outputs": [],
   "source": [
    "auth_header = {\n",
    "    \"Authorization\" : \"Bearer \" + db2id['access_token'], 'X-DB-Profile': db2id['db']\n",
    "}"
   ]
  },
  {
   "cell_type": "markdown",
   "metadata": {},
   "source": [
    "Now we can create an SQL command with the associated parameters."
   ]
  },
  {
   "cell_type": "code",
   "execution_count": null,
   "metadata": {},
   "outputs": [],
   "source": [
    "sql_command = {\n",
    "    \"commands\" : \"SELECT tabname, card, npages, fpages FROM syscat.tables WHERE tabschema = upper('\" + db2id['username']  + \"')\",\n",
    "    \"limit\" : 1000,\n",
    "    \"separator\" : \";\",\n",
    "    \"stop_on_error\" : \"yes\"\n",
    "}"
   ]
  },
  {
   "cell_type": "markdown",
   "metadata": {},
   "source": [
    "At this point we have enough information to request that the SQL be executed for us. We need to supply the authentication token and the SQL request."
   ]
  },
  {
   "cell_type": "code",
   "execution_count": null,
   "metadata": {},
   "outputs": [],
   "source": [
    "service = \"/sql_jobs\"\n",
    "r = requests.post(host + service, headers=auth_header, json=sql_command)"
   ]
  },
  {
   "cell_type": "code",
   "execution_count": null,
   "metadata": {},
   "outputs": [],
   "source": [
    "r.json()"
   ]
  },
  {
   "cell_type": "code",
   "execution_count": null,
   "metadata": {},
   "outputs": [],
   "source": [
    "sql_command"
   ]
  },
  {
   "cell_type": "markdown",
   "metadata": {},
   "source": [
    "We will check the return code (201) and if it is okay we will display the json results that are returned."
   ]
  },
  {
   "cell_type": "code",
   "execution_count": null,
   "metadata": {},
   "outputs": [],
   "source": [
    "if r.status_code == 201:\n",
    "    print(r.json())\n",
    "else:\n",
    "    print(\"Something went wrong with the call!\")"
   ]
  },
  {
   "cell_type": "markdown",
   "metadata": {},
   "source": [
    "The `id` field is what we need to keep track of. The `id` is used to retrieve the answer set(s) that are associated with the SQL call. The value will be saved into a Python variable for future use."
   ]
  },
  {
   "cell_type": "code",
   "execution_count": null,
   "metadata": {},
   "outputs": [],
   "source": [
    "jobid = r.json()['id']"
   ]
  },
  {
   "cell_type": "markdown",
   "metadata": {},
   "source": [
    "### Retrieving an Answer Set\n",
    "Now that the SQL statement has been sent off for execution, we must request the results. The RESTful API is exactly the same as requesting the SQL to be run, but you need to add the job id to the end of the service. Instead of using a `POST` request we use `GET`. The format of the command is:\n",
    "```\n",
    "request.get(host + service + \"/\" + jobid, headers=authtoken)\n",
    "```\n",
    "When the call is successful, the result contains the following information:\n",
    "```json\n",
    "{\n",
    "  \"id\": \"STRING\",\n",
    "  \"status\": \"STRING\",\n",
    "  \"results\": {\n",
    "    \"command\": \"STRING\",\n",
    "    \"columns\": \"ARRAY\",\n",
    "    \"rows\": \"ARRAY\",\n",
    "    \"rows_count\": \"INTEGER\",\n",
    "    \"limit\": \"INTEGER\",\n",
    "    \"last_inserted\": \"INTEGER\",\n",
    "    \"rows_affected\": \"INTEGER\",\n",
    "    \"runtime_seconds\": \"DOUBLE\",\n",
    "    \"error\": \"STRING\"\n",
    "  }\n",
    "}\n",
    "```\n",
    "The `status` field contains either `completed`,`running`, or `failed`. It is possible that you only get an intermediate result set (perhaps because the answer set is still being gathered) so `running` will be returned. When the status is `running` you may already have some data in the `results` field. You must retrieve this data before issuing another request. The data that is returned is not cumulative which means any results that are returned in the RESTful call are lost on the next call. A general strategy would be to write code similar to:\n",
    "```\n",
    "r = restful.get(...)\n",
    "if (r.status == \"failed\") leave...\n",
    "rows = get rows from r\n",
    "while r.status == \"running\"\n",
    "    r = restful.get(...)\n",
    "    rows = get rows from r\n",
    "```\n",
    "Since we only requested a count of rows, the following code should be successful (200)."
   ]
  },
  {
   "cell_type": "code",
   "execution_count": null,
   "metadata": {},
   "outputs": [],
   "source": [
    "r = requests.get(host + service + \"/\" + jobid,headers=auth_header)\n",
    "if r.status_code == 200:\n",
    "    print(r.json())\n",
    "else:\n",
    "    print(\"Something went wrong with the call!\")"
   ]
  },
  {
   "cell_type": "markdown",
   "metadata": {},
   "source": [
    "The column names and rows of the result set are found in the 'results' field and the rows are represented as an array of values. To extract the column names use the following syntax."
   ]
  },
  {
   "cell_type": "code",
   "execution_count": null,
   "metadata": {},
   "outputs": [],
   "source": [
    "results = r.json()['results']\n",
    "columns = results[0]['columns']\n",
    "rows = results[0]['rows']\n",
    "print('Column Names')\n",
    "print(columns)\n",
    "print('Rows')\n",
    "print(rows)"
   ]
  },
  {
   "cell_type": "markdown",
   "metadata": {},
   "source": [
    "The column names are in a single-dimensional array, while the rows are a 2-dimensional array. If you are using pandas dataframes to manipulate data, you can convert the array values using the following syntax. The last statement converts the character columns into numeric values. The RESTful call returns the answer set as strings so this step makes it easier to plot data."
   ]
  },
  {
   "cell_type": "code",
   "execution_count": null,
   "metadata": {},
   "outputs": [],
   "source": [
    "df = pd.DataFrame(data=rows,columns=columns)\n",
    "cols = df.columns\n",
    "df[cols] = df[cols].apply(pd.to_numeric, errors='ignore')"
   ]
  },
  {
   "cell_type": "markdown",
   "metadata": {},
   "source": [
    "Now that we have the data in dataframe format, just referring to the variable will print it in a nicer format."
   ]
  },
  {
   "cell_type": "code",
   "execution_count": null,
   "metadata": {},
   "outputs": [],
   "source": [
    "df"
   ]
  },
  {
   "cell_type": "markdown",
   "metadata": {},
   "source": [
    "### Simplifying Data Retrieval\n",
    "To make the process of getting an answer back easier, the following code will take all of the previous steps and encapsulate them into a single call. The function has the following format:\n",
    "```\n",
    "restSQL(db2id,sql)\n",
    "```\n",
    "The function will return a pandas dataframe as a result set. The parameters are:\n",
    "* db2id - The id information from the Db2 Cloud service which includes the access_token created earlier\n",
    "* sql - The SQL to be executed (single statement only)\n",
    "\n",
    "One of the issues when using access tokens is that they expire after a certain period of time. This makes the access more secure since a token will expire in the event that it was accidentially released externally. However, this means that your queries may not work after a period of time because of an expired access token. If you do get an error with the SQL call, you will need to request a new access token with the following call:\n",
    "```python\n",
    "db2id['access_token'] = get_token(db2id)\n",
    "```\n",
    "The code in this function also checks to make sure that the SQL has completed execution. There is a possibility that the SQL will run for a long period of time so the function needs to continuously poll the server with RESTful calls until the SQL has completed."
   ]
  },
  {
   "cell_type": "code",
   "execution_count": null,
   "metadata": {},
   "outputs": [],
   "source": [
    "def restSQL(db2id,sql):\n",
    "    \n",
    "    import requests\n",
    "    import pandas\n",
    "    \n",
    "    api = '/dbapi/v3'\n",
    "    host = db2id[\"https_url\"] + api\n",
    "    \n",
    "    authid = {\"Authorization\" : \"Bearer \" + db2id['access_token'], 'X-DB-Profile': db2id['db']}\n",
    "    \n",
    "    # Step 1: Build the SQL query and get the Job ID\n",
    "    \n",
    "    service = \"/sql_jobs\"\n",
    "\n",
    "    request = {\n",
    "        \"commands\" : sql,\n",
    "        \"limit\" : 10000,\n",
    "        \"separator\" : \";\",\n",
    "        \"stop_on_error\" : \"yes\"\n",
    "    }\n",
    "    \n",
    "    try:\n",
    "        r = requests.post(host + service,headers=authid,json=request)\n",
    "        if (r.ok == False):\n",
    "            print(\"SQL Execution error\")\n",
    "            print(r.json())\n",
    "            return None\n",
    "        \n",
    "    except Exception as err:\n",
    "        print(\"Error attempting RESTful call\")\n",
    "        print(err)\n",
    "        return None\n",
    "    \n",
    "    jobid = r.json()['id']\n",
    "    \n",
    "    # Step 2: Wait for Answer set to complete\n",
    "    \n",
    "    service = \"/sql_jobs/\" + jobid\n",
    "    rows = None\n",
    "    while True:\n",
    "        try:\n",
    "            r = requests.get(host + service,headers=authid)\n",
    "            if (r.ok == False):\n",
    "                print(\"SQL answer set retrieval failed.\")\n",
    "                print(r.json())\n",
    "                return None\n",
    "            \n",
    "        except Exception as err:\n",
    "            print(\"Error attempting RESTful call\")\n",
    "            print(err)\n",
    "            return None\n",
    "        \n",
    "        status = r.json()['status']\n",
    "        if (status == \"failed\"):\n",
    "            print(\"SQL failed\")\n",
    "            print(r.json())\n",
    "            return None\n",
    "                \n",
    "        results = r.json()['results']\n",
    "        try:\n",
    "            columns = results[0]['columns']\n",
    "            if (rows == None):\n",
    "                rows = results[0]['rows']\n",
    "            else:\n",
    "                rows = rows + results[0]['rows']\n",
    "        except:\n",
    "            None\n",
    "            \n",
    "        if (status == 'completed'): break\n",
    "            \n",
    "    # Step 3: Create the Dataframe to return to the application\n",
    "                    \n",
    "    df = pandas.DataFrame(data=rows,columns=columns)\n",
    "    cols = df.columns\n",
    "    df[cols] = df[cols].apply(pandas.to_numeric, errors='ignore')\n",
    "    \n",
    "    return df"
   ]
  },
  {
   "cell_type": "markdown",
   "metadata": {},
   "source": [
    "Now we can execute the previous SQL example with just a simple call."
   ]
  },
  {
   "cell_type": "code",
   "execution_count": null,
   "metadata": {},
   "outputs": [],
   "source": [
    "sql = 'select tabname, card, npages, fpages from syscat.tables fetch first 10 rows only'\n",
    "restSQL(db2id,sql)"
   ]
  },
  {
   "cell_type": "markdown",
   "metadata": {},
   "source": [
    "### Now it's your turn\n",
    "Here you can now try out what you learned above and run your own SQL queries"
   ]
  },
  {
   "cell_type": "code",
   "execution_count": null,
   "metadata": {},
   "outputs": [],
   "source": [
    "sql = 'select ...'\n",
    "restSQL(db2id,sql)"
   ]
  },
  {
   "cell_type": "code",
   "execution_count": null,
   "metadata": {},
   "outputs": [],
   "source": []
  },
  {
   "cell_type": "markdown",
   "metadata": {},
   "source": [
    "## Summary\n",
    "Using RESTful calls to Db2 removes much of the complexity of communicating with the database. There are no drivers required, no configuration file, nor any administration required on the client that is communicating with the database. All communication is done using RESTful API calls, which are available on all browsers and all operating systems. The calls to the database are replaced with standard POST and GET requests. Enabling RESTful support to Db2 opens up the type of applications that you can write and clients that you can connect to Db2 with."
   ]
  },
  {
   "cell_type": "markdown",
   "metadata": {},
   "source": [
    "#### Credits: \n",
    "IBM 2020, George Baklarz [baklarz@ca.ibm.com], Andreas Weininger [andreas.weininger@de.ibm.com], Stefan Hummel [stefan.hummel@de.ibm.com]"
   ]
  }
 ],
 "metadata": {
  "anaconda-cloud": {},
  "kernelspec": {
   "display_name": "Python 3",
   "language": "python",
   "name": "python3"
  },
  "language_info": {
   "codemirror_mode": {
    "name": "ipython",
    "version": 3
   },
   "file_extension": ".py",
   "mimetype": "text/x-python",
   "name": "python",
   "nbconvert_exporter": "python",
   "pygments_lexer": "ipython3",
   "version": "3.7.4"
  }
 },
 "nbformat": 4,
 "nbformat_minor": 2
}
