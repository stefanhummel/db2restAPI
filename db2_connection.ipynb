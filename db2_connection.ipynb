{
 "cells": [
  {
   "cell_type": "markdown",
   "metadata": {},
   "source": [
    "# Set Credentials "
   ]
  },
  {
   "cell_type": "markdown",
   "metadata": {},
   "source": [
    "Copy your service credentials provided in JSON format into the curly brackets. The definition of db2id should look like this:\n",
    "\n",
    "```json\n",
    "db2id = {\n",
    "  \"db\": \"myDatabaseName\",\n",
    "  \"host\": \"anydbservice.mycloud.net\",\n",
    "  \"hostname\": \"anydbservice.mycloud.net\",\n",
    "  \"https_url\": \"https://anydbservice.mycloud.net\",\n",
    "  \"port\": 50000,\n",
    "  \"userid\" : \"xyz12345\",\n",
    "  \"password\" :\"secretPassword\"\n",
    "}\n",
    "```"
   ]
  },
  {
   "cell_type": "code",
   "execution_count": null,
   "metadata": {},
   "outputs": [],
   "source": [
    "def get_credentials_for_db(logical_db_name):\n",
    "    \n",
    "    # initialize\n",
    "    db2id = {\n",
    "        \"db\": \"\",\n",
    "        \"hostname\": \"\",\n",
    "        \"password\": \"\",\n",
    "        \"port\": 50000,\n",
    "        \"username\": \"\"\n",
    "    }\n",
    "\n",
    "    \n",
    "    # Db2 on Cloud (Db2-FRA)\n",
    "    if (logical_db_name == 'Db2-FRA'):\n",
    "        db2id = {\n",
    "            \"db\": \"BLUDB\",\n",
    "            \"hostname\": \"dashdb-txn-flex-yp-fra02-574.services.eu-de.bluemix.net\",\n",
    "            \"password\": \"\",\n",
    "            \"port\": 50000,\n",
    "            \"username\": \"\"\n",
    "        }\n",
    "    \n",
    "\n",
    "    # Db2 Warehouse on Cloud (Db2-WoC)\n",
    "    if (logical_db_name == 'Db2-WoC'):\n",
    "        db2id = {\n",
    "            \"hostname\": \"db2w-lusndzd.eu-de.db2w.cloud.ibm.com\",\n",
    "            \"password\": \"\",\n",
    "            \"port\": 50001,\n",
    "            \"db\": \"BLUDB\",\n",
    "            \"username\": \"\",\n",
    "        }\n",
    "    \n",
    "    return db2id\n"
   ]
  },
  {
   "cell_type": "code",
   "execution_count": null,
   "metadata": {},
   "outputs": [],
   "source": [
    "### Test: Db2-FRA\n",
    "#x = get_credentials_for_db('Db2-FRA')\n",
    "#x"
   ]
  },
  {
   "cell_type": "markdown",
   "metadata": {},
   "source": [
    "#### Credits:  IBM 2020, Stefan Hummel [stefan.hummel@de.ibm.com]"
   ]
  }
 ],
 "metadata": {
  "kernelspec": {
   "display_name": "Python 3",
   "language": "python",
   "name": "python3"
  },
  "language_info": {
   "codemirror_mode": {
    "name": "ipython",
    "version": 3
   },
   "file_extension": ".py",
   "mimetype": "text/x-python",
   "name": "python",
   "nbconvert_exporter": "python",
   "pygments_lexer": "ipython3",
   "version": "3.7.4"
  }
 },
 "nbformat": 4,
 "nbformat_minor": 2
}
