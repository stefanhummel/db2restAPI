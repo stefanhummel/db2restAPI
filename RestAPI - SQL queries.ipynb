{
 "cells": [
  {
   "cell_type": "markdown",
   "metadata": {},
   "source": [
    "#### Copyright IBM All Rights Reserved."
   ]
  },
  {
   "cell_type": "markdown",
   "metadata": {},
   "source": [
    "# RestAPI - SQL queries\n",
    "\n",
    "This notebook includes basic Python examples for the Db2 REST API.\n",
    "\n",
    "The official documentation of the DB2 RestAPI is here:\n",
    "https://cloud.ibm.com/apidocs/db2-on-cloud/db2-on-cloud-v4\n",
    "\n"
   ]
  },
  {
   "cell_type": "markdown",
   "metadata": {},
   "source": [
    "## Prerequisites:\n",
    "1. Python 3.6 and above\n",
    "2. Db2 instance (on premises or on cloud)\n",
    "3. Data already loaded in your Db2 instance\n",
    "4. Db2 connection credentials on hand"
   ]
  },
  {
   "cell_type": "markdown",
   "metadata": {},
   "source": [
    "## Required libraries\n",
    "\n",
    "To run the examples in this notebook, you need to install the following libraries:\n",
    "\n",
    "- `http.client`: client side of the HTTP and HTTPS protocol\n",
    "- `json`: JSON encoder and decoder\n",
    "- `pandas`: For data manipulation and analysis\n",
    "- `matplotlib.pyplot`: For command style functions that make matplotlib work like MATLAB\n",
    "- `requests`: For making HTTP calls\n",
    "- `time`: For various time-related functions"
   ]
  },
  {
   "cell_type": "code",
   "execution_count": 1,
   "metadata": {},
   "outputs": [],
   "source": [
    "import http.client\n",
    "import json\n",
    "import pandas as pd\n",
    "import matplotlib.pyplot as plt\n",
    "import requests\n",
    "import time\n",
    "from pandas.io.json import json_normalize"
   ]
  },
  {
   "cell_type": "markdown",
   "metadata": {},
   "source": [
    "Database credentials can be defined in the file `db2_connection.ipynb`. Import this file to use the function `get_credentials_for_db()`."
   ]
  },
  {
   "cell_type": "code",
   "execution_count": 2,
   "metadata": {},
   "outputs": [],
   "source": [
    "%run db2_connection.ipynb"
   ]
  },
  {
   "cell_type": "markdown",
   "metadata": {},
   "source": [
    "## Step 1 - Generating an Access Token\n",
    "The first step in generating an access token is to build the URL for the service. From a programming perspective, the host URL will be combined with the API library to form the stub for all future RESTful URL requests. The HOST IP address is derived from the Db2 connect parameters.\n",
    "\n",
    "If available, copy your service credentials provided in JSON format into the curly brackets. The definition of db2id should look like this:\n",
    "\n",
    "```json\n",
    "db2id = {\n",
    "  \"db\": \"myDatabaseName\",\n",
    "  \"host\": \"anydbservice.mycloud.net\",\n",
    "  \"hostname\": \"anydbservice.mycloud.net\",\n",
    "  \"https_url\": \"https://anydbservice.mycloud.net\",\n",
    "  \"port\": 50000,\n",
    "  \"userid\" : \"xyz12345\",\n",
    "  \"password\" :\"secretPassword\"\n",
    "}\n",
    "```"
   ]
  },
  {
   "cell_type": "code",
   "execution_count": null,
   "metadata": {},
   "outputs": [],
   "source": [
    "db2id = {\n",
    "}"
   ]
  },
  {
   "cell_type": "code",
   "execution_count": 3,
   "metadata": {},
   "outputs": [],
   "source": [
    "#db2id = get_credentials_for_db('Db2-lite')\n",
    "db2id = get_credentials_for_db('Db2-flex')\n",
    "#db2id = get_credentials_for_db('Db2-WoC')"
   ]
  },
  {
   "cell_type": "code",
   "execution_count": null,
   "metadata": {},
   "outputs": [],
   "source": [
    "# Test\n",
    "db2id['hostname']"
   ]
  },
  {
   "cell_type": "markdown",
   "metadata": {},
   "source": [
    "Define the connection and its parameters"
   ]
  },
  {
   "cell_type": "code",
   "execution_count": 4,
   "metadata": {},
   "outputs": [],
   "source": [
    "conn = http.client.HTTPSConnection(db2id['hostname'])\n",
    "payload = \"{\\\"userid\\\": \\\"\" + db2id['username'] + \"\\\" ,\\\"password\\\": \\\"\" + db2id['password'] + \"\\\" }\"\n",
    "headers = { 'content-type': \"application/json\" }"
   ]
  },
  {
   "cell_type": "markdown",
   "metadata": {},
   "source": [
    "Call the method `auth/tokens` via RestAPI"
   ]
  },
  {
   "cell_type": "code",
   "execution_count": 5,
   "metadata": {},
   "outputs": [
    {
     "name": "stdout",
     "output_type": "stream",
     "text": [
      "Status: 200, Reason: OK\n"
     ]
    }
   ],
   "source": [
    "conn.request(\"POST\", \"/dbapi/v4/auth/tokens\", payload, headers)\n",
    "\n",
    "res = conn.getresponse()\n",
    "data = res.read()\n",
    "# print(data.decode(\"utf-8\"))\n",
    "print (\"Status: \" + str(res.status) + \", Reason: \" + str(res.reason))\n",
    "\n",
    "result = json.loads(data)"
   ]
  },
  {
   "cell_type": "markdown",
   "metadata": {},
   "source": [
    "Format the output data "
   ]
  },
  {
   "cell_type": "code",
   "execution_count": 6,
   "metadata": {
    "scrolled": true
   },
   "outputs": [],
   "source": [
    "token = result['token']\n",
    "headers = {\n",
    "    'content-type': \"application/json\",\n",
    "    'authorization': \"Bearer \" + token \n",
    "    }"
   ]
  },
  {
   "cell_type": "code",
   "execution_count": null,
   "metadata": {},
   "outputs": [],
   "source": [
    "# print token\n",
    "token"
   ]
  },
  {
   "cell_type": "markdown",
   "metadata": {},
   "source": [
    "## Step 2 - Execute SQL Queries\n",
    "The service\n",
    "```javascript   \n",
    "/sql_jobs\n",
    "```\n",
    "executes one or more SQL statements as a background job. This endpoint returns a `job ID`\n",
    " that can be used to retrieve the results."
   ]
  },
  {
   "cell_type": "code",
   "execution_count": 7,
   "metadata": {},
   "outputs": [],
   "source": [
    "SQLQuery = \"select * from BLUADMIN.PERSON order by zip\"\n",
    "payload = \"{\\\"commands\\\":\\\"\" + SQLQuery + \"\\\", \\\n",
    "            \\\"limit\\\":12, \\\n",
    "            \\\"separator\\\":\\\";\\\", \\\n",
    "            \\\"stop_on_error\\\":\\\"no\\\" \\\n",
    "            }\""
   ]
  },
  {
   "cell_type": "code",
   "execution_count": 8,
   "metadata": {},
   "outputs": [],
   "source": [
    "conn.request(\"POST\", \"/dbapi/v4/sql_jobs\", payload, headers)\n",
    "\n",
    "res = conn.getresponse()\n",
    "data = res.read()\n",
    "\n",
    "#Decode result and keep them in a dictionary\n",
    "data_dict = json.loads(data)"
   ]
  },
  {
   "cell_type": "code",
   "execution_count": null,
   "metadata": {
    "scrolled": false
   },
   "outputs": [],
   "source": [
    "data_dict"
   ]
  },
  {
   "cell_type": "code",
   "execution_count": 9,
   "metadata": {},
   "outputs": [
    {
     "data": {
      "text/plain": [
       "'1594823404634_105175544'"
      ]
     },
     "execution_count": 9,
     "metadata": {},
     "output_type": "execute_result"
    }
   ],
   "source": [
    "# job ID\n",
    "data_dict['id']"
   ]
  },
  {
   "cell_type": "markdown",
   "metadata": {},
   "source": [
    "## Step 3 - Fetches partial results of a SQL job execution\n",
    "The service\n",
    "```javascript  \n",
    "    /sql_jobs/{id}\n",
    "```\n",
    "returns the current status of a SQL job execution along with any results of SQL statements that have already been executed. Clients are supposed to poll this endpoint until the status returned is either 'completed', which indicates all SQL statements have completed executing, or 'failed', which indicates the job failed to execute and therefore is considered terminated. The returned list of results is not cumulative. That means, results that were fetched in a previous call will not be returned again, only new results (i.e. that were not fetched yet) will be included. For example, assuming a job with 10 SQL statements, the first call returns status \"running\" and 6 results, the second call returns status \"running\" and an empty list of results, a third call status \"completed\" and 4 results. Any subsequent calls would return status \"completed\" and an empty list of results."
   ]
  },
  {
   "cell_type": "code",
   "execution_count": 10,
   "metadata": {},
   "outputs": [],
   "source": [
    "conn.request(\"GET\", \"/dbapi/v4/sql_jobs/\" + data_dict['id'], payload, headers)\n",
    "\n",
    "res = conn.getresponse()\n",
    "data = res.read()\n",
    "data_dict = json.loads(data)"
   ]
  },
  {
   "cell_type": "code",
   "execution_count": 11,
   "metadata": {},
   "outputs": [
    {
     "data": {
      "text/html": [
       "<div>\n",
       "<style scoped>\n",
       "    .dataframe tbody tr th:only-of-type {\n",
       "        vertical-align: middle;\n",
       "    }\n",
       "\n",
       "    .dataframe tbody tr th {\n",
       "        vertical-align: top;\n",
       "    }\n",
       "\n",
       "    .dataframe thead th {\n",
       "        text-align: right;\n",
       "    }\n",
       "</style>\n",
       "<table border=\"1\" class=\"dataframe\">\n",
       "  <thead>\n",
       "    <tr style=\"text-align: right;\">\n",
       "      <th></th>\n",
       "      <th>ID</th>\n",
       "      <th>FULLNAME</th>\n",
       "      <th>PID</th>\n",
       "      <th>CITY</th>\n",
       "      <th>ZIP</th>\n",
       "      <th>EMAIL</th>\n",
       "      <th>PHONE</th>\n",
       "    </tr>\n",
       "  </thead>\n",
       "  <tbody>\n",
       "    <tr>\n",
       "      <td>0</td>\n",
       "      <td>10032</td>\n",
       "      <td>Victor</td>\n",
       "      <td>16110428 9838</td>\n",
       "      <td>Telfs</td>\n",
       "      <td>01318</td>\n",
       "      <td>Praesent@ornareplacerat.org</td>\n",
       "      <td>(037509) 763628</td>\n",
       "    </tr>\n",
       "    <tr>\n",
       "      <td>1</td>\n",
       "      <td>10043</td>\n",
       "      <td>Porter</td>\n",
       "      <td>16360511 3210</td>\n",
       "      <td>Aurora</td>\n",
       "      <td>02198</td>\n",
       "      <td>ac.mattis.ornare@consequatenim.edu</td>\n",
       "      <td>(087) 57258900</td>\n",
       "    </tr>\n",
       "    <tr>\n",
       "      <td>2</td>\n",
       "      <td>10041</td>\n",
       "      <td>Lucian</td>\n",
       "      <td>16290710 3846</td>\n",
       "      <td>Rio nell'Elba</td>\n",
       "      <td>034283</td>\n",
       "      <td>Ut.sagittis@Namnulla.com</td>\n",
       "      <td>(0604) 75851251</td>\n",
       "    </tr>\n",
       "    <tr>\n",
       "      <td>3</td>\n",
       "      <td>10057</td>\n",
       "      <td>Nicholas</td>\n",
       "      <td>16440705 9304</td>\n",
       "      <td>Montleban</td>\n",
       "      <td>0346</td>\n",
       "      <td>mauris.erat.eget@Inmi.net</td>\n",
       "      <td>(030773) 848041</td>\n",
       "    </tr>\n",
       "    <tr>\n",
       "      <td>4</td>\n",
       "      <td>10090</td>\n",
       "      <td>Blaze</td>\n",
       "      <td>16341027 8570</td>\n",
       "      <td>Lipetsk</td>\n",
       "      <td>06251-679</td>\n",
       "      <td>amet.luctus.vulputate@luctusipsum.net</td>\n",
       "      <td>(0019) 29768342</td>\n",
       "    </tr>\n",
       "    <tr>\n",
       "      <td>5</td>\n",
       "      <td>10049</td>\n",
       "      <td>Forrest</td>\n",
       "      <td>16110102 4121</td>\n",
       "      <td>Solihull</td>\n",
       "      <td>09795</td>\n",
       "      <td>eu.erat@vestibulumnec.co.uk</td>\n",
       "      <td>(08406) 0057715</td>\n",
       "    </tr>\n",
       "    <tr>\n",
       "      <td>6</td>\n",
       "      <td>10019</td>\n",
       "      <td>Mufutau</td>\n",
       "      <td>16320214 0673</td>\n",
       "      <td>Taber</td>\n",
       "      <td>09861</td>\n",
       "      <td>Aliquam@lobortisrisusIn.org</td>\n",
       "      <td>(037173) 477132</td>\n",
       "    </tr>\n",
       "    <tr>\n",
       "      <td>7</td>\n",
       "      <td>10004</td>\n",
       "      <td>Harper</td>\n",
       "      <td>16840425 2283</td>\n",
       "      <td>Cervino</td>\n",
       "      <td>10605</td>\n",
       "      <td>auctor.ullamcorper.nisl@vitae.co.uk</td>\n",
       "      <td>(032653) 671059</td>\n",
       "    </tr>\n",
       "    <tr>\n",
       "      <td>8</td>\n",
       "      <td>10034</td>\n",
       "      <td>Cade</td>\n",
       "      <td>16340629 9986</td>\n",
       "      <td>Torgny</td>\n",
       "      <td>108460</td>\n",
       "      <td>eu.tempor@AliquamnislNulla.co.uk</td>\n",
       "      <td>(0686) 94256770</td>\n",
       "    </tr>\n",
       "    <tr>\n",
       "      <td>9</td>\n",
       "      <td>10098</td>\n",
       "      <td>Samson</td>\n",
       "      <td>16110409 3883</td>\n",
       "      <td>Annapolis County</td>\n",
       "      <td>12-957</td>\n",
       "      <td>metus.facilisis@euismodetcommodo.org</td>\n",
       "      <td>(03860) 9960362</td>\n",
       "    </tr>\n",
       "    <tr>\n",
       "      <td>10</td>\n",
       "      <td>10038</td>\n",
       "      <td>Ferris</td>\n",
       "      <td>16510623 8438</td>\n",
       "      <td>Noida</td>\n",
       "      <td>131875</td>\n",
       "      <td>consectetuer.ipsum.nunc@vulputaterisus.org</td>\n",
       "      <td>(0212) 97604623</td>\n",
       "    </tr>\n",
       "    <tr>\n",
       "      <td>11</td>\n",
       "      <td>10056</td>\n",
       "      <td>Nehru</td>\n",
       "      <td>16300725 7540</td>\n",
       "      <td>Limache</td>\n",
       "      <td>15886</td>\n",
       "      <td>mollis.nec.cursus@NullamenimSed.org</td>\n",
       "      <td>(016) 94484767</td>\n",
       "    </tr>\n",
       "  </tbody>\n",
       "</table>\n",
       "</div>"
      ],
      "text/plain": [
       "       ID  FULLNAME            PID              CITY        ZIP  \\\n",
       "0   10032    Victor  16110428 9838             Telfs      01318   \n",
       "1   10043    Porter  16360511 3210            Aurora      02198   \n",
       "2   10041    Lucian  16290710 3846     Rio nell'Elba     034283   \n",
       "3   10057  Nicholas  16440705 9304         Montleban       0346   \n",
       "4   10090     Blaze  16341027 8570           Lipetsk  06251-679   \n",
       "5   10049   Forrest  16110102 4121          Solihull      09795   \n",
       "6   10019   Mufutau  16320214 0673             Taber      09861   \n",
       "7   10004    Harper  16840425 2283           Cervino      10605   \n",
       "8   10034      Cade  16340629 9986            Torgny     108460   \n",
       "9   10098    Samson  16110409 3883  Annapolis County     12-957   \n",
       "10  10038    Ferris  16510623 8438             Noida     131875   \n",
       "11  10056     Nehru  16300725 7540           Limache      15886   \n",
       "\n",
       "                                         EMAIL            PHONE  \n",
       "0                  Praesent@ornareplacerat.org  (037509) 763628  \n",
       "1           ac.mattis.ornare@consequatenim.edu   (087) 57258900  \n",
       "2                     Ut.sagittis@Namnulla.com  (0604) 75851251  \n",
       "3                    mauris.erat.eget@Inmi.net  (030773) 848041  \n",
       "4        amet.luctus.vulputate@luctusipsum.net  (0019) 29768342  \n",
       "5                  eu.erat@vestibulumnec.co.uk  (08406) 0057715  \n",
       "6                  Aliquam@lobortisrisusIn.org  (037173) 477132  \n",
       "7          auctor.ullamcorper.nisl@vitae.co.uk  (032653) 671059  \n",
       "8             eu.tempor@AliquamnislNulla.co.uk  (0686) 94256770  \n",
       "9         metus.facilisis@euismodetcommodo.org  (03860) 9960362  \n",
       "10  consectetuer.ipsum.nunc@vulputaterisus.org  (0212) 97604623  \n",
       "11         mollis.nec.cursus@NullamenimSed.org   (016) 94484767  "
      ]
     },
     "execution_count": 11,
     "metadata": {},
     "output_type": "execute_result"
    }
   ],
   "source": [
    "pd.DataFrame(data_dict['results'][0]['rows'], columns=data_dict['results'][0]['columns'])"
   ]
  },
  {
   "cell_type": "markdown",
   "metadata": {},
   "source": [
    "### Alternative: Query table data (step2 + 3)\n",
    "The service\n",
    "```javascript  \n",
    "    /admin/schemas/{schema_name}/tables/{table_name}/data\n",
    "```\n",
    "\n",
    "fetches the table data up to a maximum of 100,000 rows. Currently it's not possible to retrieve data from tables that contain CLOB, BLOB or DBCLOB values."
   ]
  },
  {
   "cell_type": "code",
   "execution_count": 12,
   "metadata": {},
   "outputs": [],
   "source": [
    "service = \"/dbapi/v4/admin/schemas/\"  \\\n",
    "        + \"BLUADMIN\" \\\n",
    "        + \"/tables/\" \\\n",
    "        + \"PERSON\"   \\\n",
    "        + \"/data?rows_return=12\"\n",
    "# service"
   ]
  },
  {
   "cell_type": "code",
   "execution_count": 13,
   "metadata": {},
   "outputs": [],
   "source": [
    "conn.request(\"GET\", service, headers=headers)\n",
    "res = conn.getresponse()\n",
    "data = res.read()\n",
    "\n",
    "#Decode result and keep them in a dictionary\n",
    "result_dict = json.loads(data)"
   ]
  },
  {
   "cell_type": "code",
   "execution_count": 14,
   "metadata": {},
   "outputs": [
    {
     "data": {
      "text/html": [
       "<div>\n",
       "<style scoped>\n",
       "    .dataframe tbody tr th:only-of-type {\n",
       "        vertical-align: middle;\n",
       "    }\n",
       "\n",
       "    .dataframe tbody tr th {\n",
       "        vertical-align: top;\n",
       "    }\n",
       "\n",
       "    .dataframe thead th {\n",
       "        text-align: right;\n",
       "    }\n",
       "</style>\n",
       "<table border=\"1\" class=\"dataframe\">\n",
       "  <thead>\n",
       "    <tr style=\"text-align: right;\">\n",
       "      <th></th>\n",
       "      <th>ID</th>\n",
       "      <th>FULLNAME</th>\n",
       "      <th>PID</th>\n",
       "      <th>CITY</th>\n",
       "      <th>ZIP</th>\n",
       "      <th>EMAIL</th>\n",
       "      <th>PHONE</th>\n",
       "    </tr>\n",
       "  </thead>\n",
       "  <tbody>\n",
       "    <tr>\n",
       "      <td>0</td>\n",
       "      <td>10000</td>\n",
       "      <td>Erich</td>\n",
       "      <td>16560208 0060</td>\n",
       "      <td>Cabildo</td>\n",
       "      <td>74208-82216</td>\n",
       "      <td>Ut.nec@enim.co.uk</td>\n",
       "      <td>(03240) 3433625</td>\n",
       "    </tr>\n",
       "    <tr>\n",
       "      <td>1</td>\n",
       "      <td>10001</td>\n",
       "      <td>Shad</td>\n",
       "      <td>16420717 2661</td>\n",
       "      <td>Nyandoma</td>\n",
       "      <td>781552</td>\n",
       "      <td>tincidunt.orci.quis@metuseu.edu</td>\n",
       "      <td>(032965) 431180</td>\n",
       "    </tr>\n",
       "    <tr>\n",
       "      <td>2</td>\n",
       "      <td>10002</td>\n",
       "      <td>Alec</td>\n",
       "      <td>16121101 2206</td>\n",
       "      <td>Grimbergen</td>\n",
       "      <td>56736</td>\n",
       "      <td>tempus.non@famesacturpis.ca</td>\n",
       "      <td>(0111) 87808412</td>\n",
       "    </tr>\n",
       "    <tr>\n",
       "      <td>3</td>\n",
       "      <td>10003</td>\n",
       "      <td>Paki</td>\n",
       "      <td>16970123 6235</td>\n",
       "      <td>Soma</td>\n",
       "      <td>44-067</td>\n",
       "      <td>metus.vitae@Nunc.edu</td>\n",
       "      <td>(026) 56243189</td>\n",
       "    </tr>\n",
       "    <tr>\n",
       "      <td>4</td>\n",
       "      <td>10004</td>\n",
       "      <td>Harper</td>\n",
       "      <td>16840425 2283</td>\n",
       "      <td>Cervino</td>\n",
       "      <td>10605</td>\n",
       "      <td>auctor.ullamcorper.nisl@vitae.co.uk</td>\n",
       "      <td>(032653) 671059</td>\n",
       "    </tr>\n",
       "    <tr>\n",
       "      <td>5</td>\n",
       "      <td>10005</td>\n",
       "      <td>Ethan</td>\n",
       "      <td>16120910 7497</td>\n",
       "      <td>Great Falls</td>\n",
       "      <td>70790</td>\n",
       "      <td>ultrices.posuere@egetvarius.com</td>\n",
       "      <td>(0996) 56248753</td>\n",
       "    </tr>\n",
       "    <tr>\n",
       "      <td>6</td>\n",
       "      <td>10006</td>\n",
       "      <td>Yoshio</td>\n",
       "      <td>16001107 6155</td>\n",
       "      <td>Villafalletto</td>\n",
       "      <td>56938</td>\n",
       "      <td>nec.tempus.scelerisque@ante.ca</td>\n",
       "      <td>(035920) 423116</td>\n",
       "    </tr>\n",
       "    <tr>\n",
       "      <td>7</td>\n",
       "      <td>10007</td>\n",
       "      <td>Noah</td>\n",
       "      <td>16311227 4521</td>\n",
       "      <td>Heikruis</td>\n",
       "      <td>61432</td>\n",
       "      <td>velit@semsemper.edu</td>\n",
       "      <td>(04174) 6862313</td>\n",
       "    </tr>\n",
       "    <tr>\n",
       "      <td>8</td>\n",
       "      <td>10008</td>\n",
       "      <td>Matthew</td>\n",
       "      <td>16750802 2485</td>\n",
       "      <td>Castelbaldo</td>\n",
       "      <td>65-388</td>\n",
       "      <td>ridiculus.mus.Donec@infaucibus.co.uk</td>\n",
       "      <td>(0487) 79520636</td>\n",
       "    </tr>\n",
       "    <tr>\n",
       "      <td>9</td>\n",
       "      <td>10009</td>\n",
       "      <td>Amal</td>\n",
       "      <td>16301015 7927</td>\n",
       "      <td>Dawson Creek</td>\n",
       "      <td>97990</td>\n",
       "      <td>fermentum.convallis.ligula@orci.ca</td>\n",
       "      <td>(04683) 8863010</td>\n",
       "    </tr>\n",
       "    <tr>\n",
       "      <td>10</td>\n",
       "      <td>10010</td>\n",
       "      <td>Ezra</td>\n",
       "      <td>16680720 1816</td>\n",
       "      <td>Lincoln</td>\n",
       "      <td>48441</td>\n",
       "      <td>cubilia.Curae.Phasellus@Suspendisse.co.uk</td>\n",
       "      <td>(0092) 55810786</td>\n",
       "    </tr>\n",
       "    <tr>\n",
       "      <td>11</td>\n",
       "      <td>10011</td>\n",
       "      <td>Simon</td>\n",
       "      <td>16440429 4953</td>\n",
       "      <td>Darlington</td>\n",
       "      <td>64995</td>\n",
       "      <td>neque.Sed.eget@temporarcuVestibulum.net</td>\n",
       "      <td>(07209) 0991323</td>\n",
       "    </tr>\n",
       "  </tbody>\n",
       "</table>\n",
       "</div>"
      ],
      "text/plain": [
       "       ID FULLNAME            PID           CITY          ZIP  \\\n",
       "0   10000    Erich  16560208 0060        Cabildo  74208-82216   \n",
       "1   10001     Shad  16420717 2661       Nyandoma       781552   \n",
       "2   10002     Alec  16121101 2206     Grimbergen        56736   \n",
       "3   10003     Paki  16970123 6235           Soma       44-067   \n",
       "4   10004   Harper  16840425 2283        Cervino        10605   \n",
       "5   10005    Ethan  16120910 7497    Great Falls        70790   \n",
       "6   10006   Yoshio  16001107 6155  Villafalletto        56938   \n",
       "7   10007     Noah  16311227 4521       Heikruis        61432   \n",
       "8   10008  Matthew  16750802 2485    Castelbaldo       65-388   \n",
       "9   10009     Amal  16301015 7927   Dawson Creek        97990   \n",
       "10  10010     Ezra  16680720 1816        Lincoln        48441   \n",
       "11  10011    Simon  16440429 4953     Darlington        64995   \n",
       "\n",
       "                                        EMAIL            PHONE  \n",
       "0                           Ut.nec@enim.co.uk  (03240) 3433625  \n",
       "1             tincidunt.orci.quis@metuseu.edu  (032965) 431180  \n",
       "2                 tempus.non@famesacturpis.ca  (0111) 87808412  \n",
       "3                        metus.vitae@Nunc.edu   (026) 56243189  \n",
       "4         auctor.ullamcorper.nisl@vitae.co.uk  (032653) 671059  \n",
       "5             ultrices.posuere@egetvarius.com  (0996) 56248753  \n",
       "6              nec.tempus.scelerisque@ante.ca  (035920) 423116  \n",
       "7                         velit@semsemper.edu  (04174) 6862313  \n",
       "8        ridiculus.mus.Donec@infaucibus.co.uk  (0487) 79520636  \n",
       "9          fermentum.convallis.ligula@orci.ca  (04683) 8863010  \n",
       "10  cubilia.Curae.Phasellus@Suspendisse.co.uk  (0092) 55810786  \n",
       "11    neque.Sed.eget@temporarcuVestibulum.net  (07209) 0991323  "
      ]
     },
     "execution_count": 14,
     "metadata": {},
     "output_type": "execute_result"
    }
   ],
   "source": [
    "column_names = [ sub['name'] for sub in result_dict['columns'] ] \n",
    "pd.DataFrame(result_dict['rows'], columns=column_names)"
   ]
  },
  {
   "cell_type": "markdown",
   "metadata": {},
   "source": [
    "## Summary\n",
    "Using RESTful calls to Db2 removes much of the complexity of communicating with the database. There are no drivers required, no configuration file, nor any administration required on the client that is communicating with the database. All communication is done using RESTful API calls, which are available on all browsers and all operating systems. The calls to the database are replaced with standard POST and GET requests. Enabling RESTful support to Db2 opens up the type of applications that you can write and clients that you can connect to Db2 with."
   ]
  },
  {
   "cell_type": "markdown",
   "metadata": {},
   "source": [
    "#### Credits:  IBM 2020, Stefan Hummel [stefan.hummel@de.ibm.com]"
   ]
  }
 ],
 "metadata": {
  "kernelspec": {
   "display_name": "Python 3",
   "language": "python",
   "name": "python3"
  },
  "language_info": {
   "codemirror_mode": {
    "name": "ipython",
    "version": 3
   },
   "file_extension": ".py",
   "mimetype": "text/x-python",
   "name": "python",
   "nbconvert_exporter": "python",
   "pygments_lexer": "ipython3",
   "version": "3.7.4"
  }
 },
 "nbformat": 4,
 "nbformat_minor": 2
}
