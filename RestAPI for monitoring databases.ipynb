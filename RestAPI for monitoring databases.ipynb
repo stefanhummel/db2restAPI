{
 "cells": [
  {
   "cell_type": "markdown",
   "metadata": {},
   "source": [
    "#### Copyright IBM All Rights Reserved."
   ]
  },
  {
   "cell_type": "markdown",
   "metadata": {},
   "source": [
    "# RestAPI for monitoring databases\n",
    "\n",
    "This notebook includes basic Python examples for the REST API to Db2 for monitoring data.\n",
    "\n",
    "The official documentation of the DB2 RestAPI is here:\n",
    "https://cloud.ibm.com/apidocs/db2-on-cloud\n",
    "\n"
   ]
  },
  {
   "cell_type": "markdown",
   "metadata": {},
   "source": [
    "## Prerequisites:\n",
    "1. Python 3.6 and above\n",
    "2. Db2 instance (on premises or on cloud)\n",
    "3. Data already loaded in your Db2 instance\n",
    "4. Db2 connection credentials on hand"
   ]
  },
  {
   "cell_type": "markdown",
   "metadata": {},
   "source": [
    "## Required libraries\n",
    "\n",
    "To run the examples in this notebook, you need to install the following libraries:\n",
    "\n",
    "- `http.client`: client side of the HTTP and HTTPS protocol\n",
    "- `json`: JSON encoder and decoder\n",
    "- `pandas`: For data manipulation and analysis\n",
    "- `matplotlib.pyplot`: For command style functions that make matplotlib work like MATLAB\n",
    "- `requests`: For making HTTP calls\n",
    "- `time`: For various time-related functions"
   ]
  },
  {
   "cell_type": "code",
   "execution_count": 1,
   "metadata": {},
   "outputs": [],
   "source": [
    "import http.client\n",
    "import json\n",
    "import pandas as pd\n",
    "import matplotlib.pyplot as plt\n",
    "import requests\n",
    "import time\n",
    "from pandas.io.json import json_normalize"
   ]
  },
  {
   "cell_type": "markdown",
   "metadata": {},
   "source": [
    "Database credentials can be defined in the file `db2_connection.ipynb`. Import this file to use the function `get_credentials_for_db()`."
   ]
  },
  {
   "cell_type": "code",
   "execution_count": 2,
   "metadata": {},
   "outputs": [],
   "source": [
    "%run db2_connection.ipynb"
   ]
  },
  {
   "cell_type": "markdown",
   "metadata": {},
   "source": [
    "# Step 1 - Generating an Access Token\n",
    "The first step in generating an access token is to build the URL for the service. From a programming perspective, the host URL will be combined with the API library to form the stub for all future RESTful URL requests. The HOST IP address is derived from the Db2 connect parameters.\n",
    "\n",
    "If available, copy your service credentials provided in JSON format into the curly brackets. The definition of db2id should look like this:\n",
    "\n",
    "```json\n",
    "db2id = {\n",
    "  \"db\": \"myDatabaseName\",\n",
    "  \"host\": \"anydbservice.mycloud.net\",\n",
    "  \"hostname\": \"anydbservice.mycloud.net\",\n",
    "  \"https_url\": \"https://anydbservice.mycloud.net\",\n",
    "  \"port\": 50000,\n",
    "  \"userid\" : \"xyz12345\",\n",
    "  \"password\" :\"secretPassword\"\n",
    "}\n",
    "```"
   ]
  },
  {
   "cell_type": "code",
   "execution_count": 3,
   "metadata": {},
   "outputs": [],
   "source": [
    "db2id = {\n",
    "}"
   ]
  },
  {
   "cell_type": "code",
   "execution_count": 4,
   "metadata": {},
   "outputs": [],
   "source": [
    "db2id = get_credentials_for_db('Db2-FRA')"
   ]
  },
  {
   "cell_type": "code",
   "execution_count": 5,
   "metadata": {},
   "outputs": [
    {
     "data": {
      "text/plain": [
       "'dashdb-txn-flex-yp-fra02-574.services.eu-de.bluemix.net'"
      ]
     },
     "execution_count": 5,
     "metadata": {},
     "output_type": "execute_result"
    }
   ],
   "source": [
    "# Test\n",
    "db2id['hostname']"
   ]
  },
  {
   "cell_type": "markdown",
   "metadata": {},
   "source": [
    "Define the connection and its parameters"
   ]
  },
  {
   "cell_type": "code",
   "execution_count": 6,
   "metadata": {},
   "outputs": [],
   "source": [
    "conn = http.client.HTTPSConnection(db2id['hostname'])\n",
    "payload = \"{\\\"userid\\\": \" + db2id['username'] + \",\\\"password\\\": \" + db2id['password'] + \"}\"\n",
    "headers = { 'content-type': \"application/json\" }"
   ]
  },
  {
   "cell_type": "markdown",
   "metadata": {},
   "source": [
    "Call the method `auth/tokens` via RestAPI"
   ]
  },
  {
   "cell_type": "code",
   "execution_count": 7,
   "metadata": {},
   "outputs": [],
   "source": [
    "conn.request(\"POST\", \"/dbapi/v4/auth/tokens\", payload, headers)\n",
    "\n",
    "res = conn.getresponse()\n",
    "data = res.read()\n",
    "# print(data.decode(\"utf-8\"))\n",
    "\n",
    "result = json.loads(data)"
   ]
  },
  {
   "cell_type": "markdown",
   "metadata": {},
   "source": [
    "Format the output data "
   ]
  },
  {
   "cell_type": "code",
   "execution_count": 8,
   "metadata": {
    "scrolled": true
   },
   "outputs": [],
   "source": [
    "token = result['token']\n",
    "headers = {\n",
    "    'content-type': \"application/json\",\n",
    "    'authorization': \"Bearer \" + token \n",
    "    }"
   ]
  },
  {
   "cell_type": "code",
   "execution_count": null,
   "metadata": {},
   "outputs": [],
   "source": [
    "# print token\n",
    "token"
   ]
  },
  {
   "cell_type": "markdown",
   "metadata": {},
   "source": [
    "# Step 2 - Develop your own application"
   ]
  },
  {
   "cell_type": "markdown",
   "metadata": {},
   "source": [
    "### Example: Storage utilization by schema"
   ]
  },
  {
   "cell_type": "code",
   "execution_count": 10,
   "metadata": {},
   "outputs": [],
   "source": [
    "conn.request(\"GET\", \"/dbapi/v4/monitor/storage/by_schema\", headers=headers)\n",
    "\n",
    "res = conn.getresponse()\n",
    "data = res.read()\n",
    "# print(data.decode(\"utf-8\"))"
   ]
  },
  {
   "cell_type": "markdown",
   "metadata": {},
   "source": [
    "Decode result and keep them in a dictionary"
   ]
  },
  {
   "cell_type": "code",
   "execution_count": 11,
   "metadata": {
    "scrolled": false
   },
   "outputs": [],
   "source": [
    "data_dict = json.loads(data)\n",
    "# data_dict['resources'] "
   ]
  },
  {
   "cell_type": "markdown",
   "metadata": {},
   "source": [
    "##### Display data as table"
   ]
  },
  {
   "cell_type": "code",
   "execution_count": 12,
   "metadata": {
    "scrolled": true
   },
   "outputs": [
    {
     "data": {
      "text/html": [
       "<div>\n",
       "<style scoped>\n",
       "    .dataframe tbody tr th:only-of-type {\n",
       "        vertical-align: middle;\n",
       "    }\n",
       "\n",
       "    .dataframe tbody tr th {\n",
       "        vertical-align: top;\n",
       "    }\n",
       "\n",
       "    .dataframe thead th {\n",
       "        text-align: right;\n",
       "    }\n",
       "</style>\n",
       "<table border=\"1\" class=\"dataframe\">\n",
       "  <thead>\n",
       "    <tr style=\"text-align: right;\">\n",
       "      <th></th>\n",
       "      <th>schema</th>\n",
       "      <th>total_logical_size_kb</th>\n",
       "      <th>xml_physical_size_kb</th>\n",
       "      <th>data_logical_size_kb</th>\n",
       "      <th>data_physical_size_kb</th>\n",
       "      <th>long_physical_size_kb</th>\n",
       "      <th>long_logical_size_kb</th>\n",
       "      <th>lob_physical_size_kb</th>\n",
       "      <th>total_physical_size_kb</th>\n",
       "      <th>lob_logical_size_kb</th>\n",
       "      <th>column_organized_data_logical_size_kb</th>\n",
       "      <th>index_logical_size_kb</th>\n",
       "      <th>index_physical_size_kb</th>\n",
       "      <th>xml_logical_size_kb</th>\n",
       "      <th>column_organized_data_physical_size_kb</th>\n",
       "    </tr>\n",
       "  </thead>\n",
       "  <tbody>\n",
       "    <tr>\n",
       "      <td>0</td>\n",
       "      <td>AUDIT</td>\n",
       "      <td>20544</td>\n",
       "      <td>0</td>\n",
       "      <td>16384</td>\n",
       "      <td>16384</td>\n",
       "      <td>0</td>\n",
       "      <td>0</td>\n",
       "      <td>8192</td>\n",
       "      <td>24576</td>\n",
       "      <td>4160</td>\n",
       "      <td>0</td>\n",
       "      <td>0</td>\n",
       "      <td>0</td>\n",
       "      <td>0</td>\n",
       "      <td>0</td>\n",
       "    </tr>\n",
       "    <tr>\n",
       "      <td>1</td>\n",
       "      <td>DB2GSE</td>\n",
       "      <td>57408</td>\n",
       "      <td>0</td>\n",
       "      <td>28672</td>\n",
       "      <td>28672</td>\n",
       "      <td>0</td>\n",
       "      <td>0</td>\n",
       "      <td>8192</td>\n",
       "      <td>61440</td>\n",
       "      <td>4160</td>\n",
       "      <td>0</td>\n",
       "      <td>24576</td>\n",
       "      <td>24576</td>\n",
       "      <td>0</td>\n",
       "      <td>0</td>\n",
       "    </tr>\n",
       "    <tr>\n",
       "      <td>2</td>\n",
       "      <td>DSJOBMGR</td>\n",
       "      <td>32768</td>\n",
       "      <td>0</td>\n",
       "      <td>16384</td>\n",
       "      <td>16384</td>\n",
       "      <td>0</td>\n",
       "      <td>0</td>\n",
       "      <td>0</td>\n",
       "      <td>32768</td>\n",
       "      <td>0</td>\n",
       "      <td>0</td>\n",
       "      <td>16384</td>\n",
       "      <td>16384</td>\n",
       "      <td>0</td>\n",
       "      <td>0</td>\n",
       "    </tr>\n",
       "    <tr>\n",
       "      <td>3</td>\n",
       "      <td>DSSCHED</td>\n",
       "      <td>61856</td>\n",
       "      <td>0</td>\n",
       "      <td>26624</td>\n",
       "      <td>26624</td>\n",
       "      <td>0</td>\n",
       "      <td>0</td>\n",
       "      <td>16384</td>\n",
       "      <td>69632</td>\n",
       "      <td>8608</td>\n",
       "      <td>0</td>\n",
       "      <td>26624</td>\n",
       "      <td>26624</td>\n",
       "      <td>0</td>\n",
       "      <td>0</td>\n",
       "    </tr>\n",
       "    <tr>\n",
       "      <td>4</td>\n",
       "      <td>DSSHSV1</td>\n",
       "      <td>30720</td>\n",
       "      <td>0</td>\n",
       "      <td>16384</td>\n",
       "      <td>16384</td>\n",
       "      <td>0</td>\n",
       "      <td>0</td>\n",
       "      <td>0</td>\n",
       "      <td>30720</td>\n",
       "      <td>0</td>\n",
       "      <td>0</td>\n",
       "      <td>14336</td>\n",
       "      <td>14336</td>\n",
       "      <td>0</td>\n",
       "      <td>0</td>\n",
       "    </tr>\n",
       "    <tr>\n",
       "      <td>5</td>\n",
       "      <td>HEALTHMETRICS</td>\n",
       "      <td>28672</td>\n",
       "      <td>0</td>\n",
       "      <td>18432</td>\n",
       "      <td>18432</td>\n",
       "      <td>0</td>\n",
       "      <td>0</td>\n",
       "      <td>0</td>\n",
       "      <td>28672</td>\n",
       "      <td>0</td>\n",
       "      <td>0</td>\n",
       "      <td>10240</td>\n",
       "      <td>10240</td>\n",
       "      <td>0</td>\n",
       "      <td>0</td>\n",
       "    </tr>\n",
       "    <tr>\n",
       "      <td>6</td>\n",
       "      <td>IBMADT</td>\n",
       "      <td>4096</td>\n",
       "      <td>0</td>\n",
       "      <td>2048</td>\n",
       "      <td>2048</td>\n",
       "      <td>0</td>\n",
       "      <td>0</td>\n",
       "      <td>0</td>\n",
       "      <td>4096</td>\n",
       "      <td>0</td>\n",
       "      <td>0</td>\n",
       "      <td>2048</td>\n",
       "      <td>2048</td>\n",
       "      <td>0</td>\n",
       "      <td>0</td>\n",
       "    </tr>\n",
       "    <tr>\n",
       "      <td>7</td>\n",
       "      <td>IBMOTS</td>\n",
       "      <td>45120</td>\n",
       "      <td>0</td>\n",
       "      <td>24576</td>\n",
       "      <td>24576</td>\n",
       "      <td>0</td>\n",
       "      <td>0</td>\n",
       "      <td>8192</td>\n",
       "      <td>49152</td>\n",
       "      <td>4160</td>\n",
       "      <td>0</td>\n",
       "      <td>16384</td>\n",
       "      <td>16384</td>\n",
       "      <td>0</td>\n",
       "      <td>0</td>\n",
       "    </tr>\n",
       "    <tr>\n",
       "      <td>8</td>\n",
       "      <td>IBMPDQ</td>\n",
       "      <td>158080</td>\n",
       "      <td>0</td>\n",
       "      <td>88064</td>\n",
       "      <td>88064</td>\n",
       "      <td>0</td>\n",
       "      <td>0</td>\n",
       "      <td>12288</td>\n",
       "      <td>163840</td>\n",
       "      <td>6528</td>\n",
       "      <td>0</td>\n",
       "      <td>63488</td>\n",
       "      <td>63488</td>\n",
       "      <td>0</td>\n",
       "      <td>0</td>\n",
       "    </tr>\n",
       "    <tr>\n",
       "      <td>9</td>\n",
       "      <td>IBM_RTMON</td>\n",
       "      <td>4096</td>\n",
       "      <td>0</td>\n",
       "      <td>4096</td>\n",
       "      <td>4096</td>\n",
       "      <td>0</td>\n",
       "      <td>0</td>\n",
       "      <td>0</td>\n",
       "      <td>4096</td>\n",
       "      <td>0</td>\n",
       "      <td>0</td>\n",
       "      <td>0</td>\n",
       "      <td>0</td>\n",
       "      <td>0</td>\n",
       "      <td>0</td>\n",
       "    </tr>\n",
       "    <tr>\n",
       "      <td>10</td>\n",
       "      <td>IBM_RTMON_BASELINE</td>\n",
       "      <td>8192</td>\n",
       "      <td>0</td>\n",
       "      <td>4096</td>\n",
       "      <td>4096</td>\n",
       "      <td>0</td>\n",
       "      <td>0</td>\n",
       "      <td>0</td>\n",
       "      <td>8192</td>\n",
       "      <td>0</td>\n",
       "      <td>0</td>\n",
       "      <td>4096</td>\n",
       "      <td>4096</td>\n",
       "      <td>0</td>\n",
       "      <td>0</td>\n",
       "    </tr>\n",
       "    <tr>\n",
       "      <td>11</td>\n",
       "      <td>IBM_RTMON_DATA</td>\n",
       "      <td>356384</td>\n",
       "      <td>0</td>\n",
       "      <td>184320</td>\n",
       "      <td>184320</td>\n",
       "      <td>0</td>\n",
       "      <td>0</td>\n",
       "      <td>4096</td>\n",
       "      <td>358400</td>\n",
       "      <td>2080</td>\n",
       "      <td>0</td>\n",
       "      <td>169984</td>\n",
       "      <td>169984</td>\n",
       "      <td>0</td>\n",
       "      <td>0</td>\n",
       "    </tr>\n",
       "    <tr>\n",
       "      <td>12</td>\n",
       "      <td>IBM_RTMON_EVMON</td>\n",
       "      <td>28704</td>\n",
       "      <td>0</td>\n",
       "      <td>14336</td>\n",
       "      <td>14336</td>\n",
       "      <td>0</td>\n",
       "      <td>0</td>\n",
       "      <td>4096</td>\n",
       "      <td>30720</td>\n",
       "      <td>2080</td>\n",
       "      <td>0</td>\n",
       "      <td>12288</td>\n",
       "      <td>12288</td>\n",
       "      <td>0</td>\n",
       "      <td>0</td>\n",
       "    </tr>\n",
       "    <tr>\n",
       "      <td>13</td>\n",
       "      <td>IBM_RTMON_METADATA</td>\n",
       "      <td>26624</td>\n",
       "      <td>0</td>\n",
       "      <td>14336</td>\n",
       "      <td>14336</td>\n",
       "      <td>0</td>\n",
       "      <td>0</td>\n",
       "      <td>0</td>\n",
       "      <td>26624</td>\n",
       "      <td>0</td>\n",
       "      <td>0</td>\n",
       "      <td>12288</td>\n",
       "      <td>12288</td>\n",
       "      <td>0</td>\n",
       "      <td>0</td>\n",
       "    </tr>\n",
       "    <tr>\n",
       "      <td>14</td>\n",
       "      <td>PROCMGMT</td>\n",
       "      <td>20480</td>\n",
       "      <td>0</td>\n",
       "      <td>10240</td>\n",
       "      <td>10240</td>\n",
       "      <td>0</td>\n",
       "      <td>0</td>\n",
       "      <td>0</td>\n",
       "      <td>20480</td>\n",
       "      <td>0</td>\n",
       "      <td>0</td>\n",
       "      <td>10240</td>\n",
       "      <td>10240</td>\n",
       "      <td>0</td>\n",
       "      <td>0</td>\n",
       "    </tr>\n",
       "    <tr>\n",
       "      <td>15</td>\n",
       "      <td>SYSIBM</td>\n",
       "      <td>585536</td>\n",
       "      <td>256</td>\n",
       "      <td>71424</td>\n",
       "      <td>71424</td>\n",
       "      <td>0</td>\n",
       "      <td>0</td>\n",
       "      <td>445696</td>\n",
       "      <td>595840</td>\n",
       "      <td>435392</td>\n",
       "      <td>0</td>\n",
       "      <td>78464</td>\n",
       "      <td>78464</td>\n",
       "      <td>256</td>\n",
       "      <td>0</td>\n",
       "    </tr>\n",
       "    <tr>\n",
       "      <td>16</td>\n",
       "      <td>SYSTOOLS</td>\n",
       "      <td>22016</td>\n",
       "      <td>0</td>\n",
       "      <td>12416</td>\n",
       "      <td>12416</td>\n",
       "      <td>0</td>\n",
       "      <td>0</td>\n",
       "      <td>5760</td>\n",
       "      <td>24320</td>\n",
       "      <td>3456</td>\n",
       "      <td>0</td>\n",
       "      <td>6144</td>\n",
       "      <td>6144</td>\n",
       "      <td>0</td>\n",
       "      <td>0</td>\n",
       "    </tr>\n",
       "  </tbody>\n",
       "</table>\n",
       "</div>"
      ],
      "text/plain": [
       "                schema  total_logical_size_kb  xml_physical_size_kb  \\\n",
       "0                AUDIT                  20544                     0   \n",
       "1               DB2GSE                  57408                     0   \n",
       "2             DSJOBMGR                  32768                     0   \n",
       "3              DSSCHED                  61856                     0   \n",
       "4              DSSHSV1                  30720                     0   \n",
       "5        HEALTHMETRICS                  28672                     0   \n",
       "6               IBMADT                   4096                     0   \n",
       "7               IBMOTS                  45120                     0   \n",
       "8               IBMPDQ                 158080                     0   \n",
       "9            IBM_RTMON                   4096                     0   \n",
       "10  IBM_RTMON_BASELINE                   8192                     0   \n",
       "11      IBM_RTMON_DATA                 356384                     0   \n",
       "12     IBM_RTMON_EVMON                  28704                     0   \n",
       "13  IBM_RTMON_METADATA                  26624                     0   \n",
       "14            PROCMGMT                  20480                     0   \n",
       "15              SYSIBM                 585536                   256   \n",
       "16            SYSTOOLS                  22016                     0   \n",
       "\n",
       "    data_logical_size_kb  data_physical_size_kb  long_physical_size_kb  \\\n",
       "0                  16384                  16384                      0   \n",
       "1                  28672                  28672                      0   \n",
       "2                  16384                  16384                      0   \n",
       "3                  26624                  26624                      0   \n",
       "4                  16384                  16384                      0   \n",
       "5                  18432                  18432                      0   \n",
       "6                   2048                   2048                      0   \n",
       "7                  24576                  24576                      0   \n",
       "8                  88064                  88064                      0   \n",
       "9                   4096                   4096                      0   \n",
       "10                  4096                   4096                      0   \n",
       "11                184320                 184320                      0   \n",
       "12                 14336                  14336                      0   \n",
       "13                 14336                  14336                      0   \n",
       "14                 10240                  10240                      0   \n",
       "15                 71424                  71424                      0   \n",
       "16                 12416                  12416                      0   \n",
       "\n",
       "    long_logical_size_kb  lob_physical_size_kb  total_physical_size_kb  \\\n",
       "0                      0                  8192                   24576   \n",
       "1                      0                  8192                   61440   \n",
       "2                      0                     0                   32768   \n",
       "3                      0                 16384                   69632   \n",
       "4                      0                     0                   30720   \n",
       "5                      0                     0                   28672   \n",
       "6                      0                     0                    4096   \n",
       "7                      0                  8192                   49152   \n",
       "8                      0                 12288                  163840   \n",
       "9                      0                     0                    4096   \n",
       "10                     0                     0                    8192   \n",
       "11                     0                  4096                  358400   \n",
       "12                     0                  4096                   30720   \n",
       "13                     0                     0                   26624   \n",
       "14                     0                     0                   20480   \n",
       "15                     0                445696                  595840   \n",
       "16                     0                  5760                   24320   \n",
       "\n",
       "    lob_logical_size_kb  column_organized_data_logical_size_kb  \\\n",
       "0                  4160                                      0   \n",
       "1                  4160                                      0   \n",
       "2                     0                                      0   \n",
       "3                  8608                                      0   \n",
       "4                     0                                      0   \n",
       "5                     0                                      0   \n",
       "6                     0                                      0   \n",
       "7                  4160                                      0   \n",
       "8                  6528                                      0   \n",
       "9                     0                                      0   \n",
       "10                    0                                      0   \n",
       "11                 2080                                      0   \n",
       "12                 2080                                      0   \n",
       "13                    0                                      0   \n",
       "14                    0                                      0   \n",
       "15               435392                                      0   \n",
       "16                 3456                                      0   \n",
       "\n",
       "    index_logical_size_kb  index_physical_size_kb  xml_logical_size_kb  \\\n",
       "0                       0                       0                    0   \n",
       "1                   24576                   24576                    0   \n",
       "2                   16384                   16384                    0   \n",
       "3                   26624                   26624                    0   \n",
       "4                   14336                   14336                    0   \n",
       "5                   10240                   10240                    0   \n",
       "6                    2048                    2048                    0   \n",
       "7                   16384                   16384                    0   \n",
       "8                   63488                   63488                    0   \n",
       "9                       0                       0                    0   \n",
       "10                   4096                    4096                    0   \n",
       "11                 169984                  169984                    0   \n",
       "12                  12288                   12288                    0   \n",
       "13                  12288                   12288                    0   \n",
       "14                  10240                   10240                    0   \n",
       "15                  78464                   78464                  256   \n",
       "16                   6144                    6144                    0   \n",
       "\n",
       "    column_organized_data_physical_size_kb  \n",
       "0                                        0  \n",
       "1                                        0  \n",
       "2                                        0  \n",
       "3                                        0  \n",
       "4                                        0  \n",
       "5                                        0  \n",
       "6                                        0  \n",
       "7                                        0  \n",
       "8                                        0  \n",
       "9                                        0  \n",
       "10                                       0  \n",
       "11                                       0  \n",
       "12                                       0  \n",
       "13                                       0  \n",
       "14                                       0  \n",
       "15                                       0  \n",
       "16                                       0  "
      ]
     },
     "execution_count": 12,
     "metadata": {},
     "output_type": "execute_result"
    }
   ],
   "source": [
    "pd.DataFrame(data_dict['resources'])"
   ]
  },
  {
   "cell_type": "markdown",
   "metadata": {},
   "source": [
    "##### Display physical size in KB"
   ]
  },
  {
   "cell_type": "code",
   "execution_count": 13,
   "metadata": {},
   "outputs": [
    {
     "data": {
      "image/png": "[encoded data removed]",
      "text/plain": [
       "<Figure size 1008x504 with 1 Axes>"
      ]
     },
     "metadata": {
      "needs_background": "light"
     },
     "output_type": "display_data"
    }
   ],
   "source": [
    "pd.DataFrame(data_dict['resources']).plot.barh( x=\"schema\"\n",
    "                                               ,y=\"data_physical_size_kb\"\n",
    "                                               ,title=\"Physical Storage Usage by Schema\"\n",
    "                                               ,figsize=(14, 7)\n",
    "                                               ,zorder=2, width=0.85\n",
    "                                               ,color=\"red\")\n",
    "plt.show()"
   ]
  },
  {
   "cell_type": "markdown",
   "metadata": {},
   "source": [
    "#### Logical size in KB"
   ]
  },
  {
   "cell_type": "code",
   "execution_count": 14,
   "metadata": {},
   "outputs": [
    {
     "data": {
      "image/png": "[encoded data removed]",
      "text/plain": [
       "<Figure size 1008x504 with 1 Axes>"
      ]
     },
     "metadata": {
      "needs_background": "light"
     },
     "output_type": "display_data"
    }
   ],
   "source": [
    "pd.DataFrame(data_dict['resources']).plot.barh( x=\"schema\"\n",
    "                                               ,y=\"data_logical_size_kb\"\n",
    "                                               ,title=\"Logical Usage by Schema\"\n",
    "                                               #,width=\"410\"\n",
    "                                               ,figsize=(14, 7)\n",
    "                                               ,zorder=2, width=0.85\n",
    "                                               ,color=\"green\")\n",
    "plt.show()"
   ]
  },
  {
   "cell_type": "markdown",
   "metadata": {},
   "source": [
    "### Example: Get a list of backups for the particular DB2 deployment"
   ]
  },
  {
   "cell_type": "code",
   "execution_count": 15,
   "metadata": {},
   "outputs": [],
   "source": [
    "conn.request(\"GET\", \"/dbapi/v4/backups\", headers=headers)\n",
    "\n",
    "res = conn.getresponse()\n",
    "data = res.read()"
   ]
  },
  {
   "cell_type": "code",
   "execution_count": 16,
   "metadata": {},
   "outputs": [
    {
     "data": {
      "text/plain": [
       "{'trace': 'f1e1ddbf339d86c813b27dd5bcd2808e',\n",
       " 'errors': [{'code': 'not_found',\n",
       "   'message': 'HWCBAS0030E: The requested resource is not found in service dbapi.',\n",
       "   'target': {'type': '', 'name': ''},\n",
       "   'more_info': ''}]}"
      ]
     },
     "execution_count": 16,
     "metadata": {},
     "output_type": "execute_result"
    }
   ],
   "source": [
    "data_dict = json.loads(data)\n",
    "data_dict"
   ]
  },
  {
   "cell_type": "markdown",
   "metadata": {},
   "source": [
    "### Example: average number of rows read(rows/min) for a specified time frame"
   ]
  },
  {
   "cell_type": "code",
   "execution_count": 17,
   "metadata": {},
   "outputs": [],
   "source": [
    "conn = http.client.HTTPSConnection(db2id['hostname'])\n",
    "payload = \"{\\\"userid\\\": \" + db2id['username'] + \",\\\"password\\\": \" + db2id['password'] + \"}\"\n",
    "headers = { 'content-type': \"application/json\" }"
   ]
  },
  {
   "cell_type": "code",
   "execution_count": 18,
   "metadata": {},
   "outputs": [
    {
     "name": "stdout",
     "output_type": "stream",
     "text": [
      "1577833200.0\n",
      "1594072800.0\n"
     ]
    }
   ],
   "source": [
    "date_time_format = \"%m.%d.%Y %H:%M:%S\"\n",
    "start_TS = \"01.01.2020 00:00:00\" \n",
    "end_TS = \"07.07.2020 00:00:00\"\n",
    "\n",
    "start_time_object = time.strptime(start_TS, date_time_format)\n",
    "end_time_object = time.strptime(end_TS, date_time_format)\n",
    "\n",
    "epoch_start_TS = time.mktime(start_time_object)\n",
    "epoch_end_TS = time.mktime(end_time_object)\n",
    "\n",
    "print(epoch_start_TS)\n",
    "print(epoch_end_TS)"
   ]
  },
  {
   "cell_type": "code",
   "execution_count": 19,
   "metadata": {},
   "outputs": [
    {
     "data": {
      "text/plain": [
       "'/dbapi/v4/metrics/average_rows_read?start=1577833200.0&end=1594072800.0'"
      ]
     },
     "execution_count": 19,
     "metadata": {},
     "output_type": "execute_result"
    }
   ],
   "source": [
    "headers = {\n",
    "    'content-type': \"application/json\",\n",
    "    'authorization': \"Bearer \" + token ,\n",
    "    'database_profile_name': \"SOME_STRING_VALUE\",\n",
    "    # 'x-deployment-id': \"{DEPLOYMENT_ID}\"\n",
    "    'x-deployment-id': \"\"\n",
    "    }\n",
    "\n",
    "rest_req = \"/dbapi/v4/metrics/average_rows_read?start=\" + str(epoch_start_TS) + \"&end=\" + str(epoch_end_TS)\n",
    "rest_req"
   ]
  },
  {
   "cell_type": "code",
   "execution_count": 20,
   "metadata": {},
   "outputs": [
    {
     "name": "stdout",
     "output_type": "stream",
     "text": [
      "{\"rows_read_per_min\":null}\n"
     ]
    }
   ],
   "source": [
    "\n",
    "conn.request(\"GET\", \"/dbapi/v4/metrics/average_rows_read?start=1577833200&end=1594072800\", headers=headers)\n",
    "#conn.request(\"GET\", rest_req, headers=headers)\n",
    "\n",
    "res = conn.getresponse()\n",
    "data = res.read()\n",
    "\n",
    "print(data.decode(\"utf-8\"))"
   ]
  },
  {
   "cell_type": "markdown",
   "metadata": {},
   "source": [
    "### Example: Number of rows read over a period"
   ]
  },
  {
   "cell_type": "code",
   "execution_count": 21,
   "metadata": {},
   "outputs": [],
   "source": [
    "# Retrieve the number of rows read over the last hour\n",
    "endTime = int(time.time())*1000\n",
    "startTime = endTime-(30*24*60*60*1000)"
   ]
  },
  {
   "cell_type": "code",
   "execution_count": 22,
   "metadata": {},
   "outputs": [],
   "source": [
    "headers = {\n",
    "    'content-type': \"application/json\",\n",
    "    'authorization': \"Bearer \" + token ,\n",
    "    'database_profile_name': \"SAMPLE\",\n",
    "    'x-deployment-id': \"\"\n",
    "    }\n",
    "\n",
    "rest_req = \"/dbapi/v4/metrics/rows_read?start=\" + str(startTime) + \"&end=\" + str(endTime)\n",
    "#rest_req"
   ]
  },
  {
   "cell_type": "code",
   "execution_count": 23,
   "metadata": {},
   "outputs": [],
   "source": [
    "conn.request(\"GET\", rest_req, headers=headers)\n",
    "\n",
    "res = conn.getresponse()\n",
    "data = res.read()\n",
    "# print(data.decode(\"utf-8\"))"
   ]
  },
  {
   "cell_type": "code",
   "execution_count": 24,
   "metadata": {},
   "outputs": [],
   "source": [
    "jData = json.loads(data)"
   ]
  },
  {
   "cell_type": "code",
   "execution_count": 25,
   "metadata": {},
   "outputs": [
    {
     "data": {
      "text/plain": [
       "{'timeseries': [{'rows_read_per_min': 5134,\n",
       "   'interval': 304843,\n",
       "   'timestamp': 1594359945265},\n",
       "  {'rows_read_per_min': 903, 'interval': 297162, 'timestamp': 1594360242427},\n",
       "  {'rows_read_per_min': 921, 'interval': 302516, 'timestamp': 1594360544943},\n",
       "  {'rows_read_per_min': 5204, 'interval': 300811, 'timestamp': 1594360845754},\n",
       "  {'rows_read_per_min': 898, 'interval': 298708, 'timestamp': 1594361144462},\n",
       "  {'rows_read_per_min': 904, 'interval': 299097, 'timestamp': 1594361443559},\n",
       "  {'rows_read_per_min': 5163, 'interval': 304112, 'timestamp': 1594361747671},\n",
       "  {'rows_read_per_min': 1216, 'interval': 298479, 'timestamp': 1594362046150},\n",
       "  {'rows_read_per_min': 901, 'interval': 297907, 'timestamp': 1594362344057},\n",
       "  {'rows_read_per_min': 5204, 'interval': 301856, 'timestamp': 1594362645913},\n",
       "  {'rows_read_per_min': 883, 'interval': 298343, 'timestamp': 1594362944256},\n",
       "  {'rows_read_per_min': 893, 'interval': 300146, 'timestamp': 1594363244402},\n",
       "  {'rows_read_per_min': 5197, 'interval': 302404, 'timestamp': 1594363546806},\n",
       "  {'rows_read_per_min': 879, 'interval': 298441, 'timestamp': 1594363845247}],\n",
       " 'count': 14}"
      ]
     },
     "execution_count": 25,
     "metadata": {},
     "output_type": "execute_result"
    }
   ],
   "source": [
    "jData"
   ]
  },
  {
   "cell_type": "code",
   "execution_count": 26,
   "metadata": {},
   "outputs": [
    {
     "data": {
      "text/html": [
       "<div>\n",
       "<style scoped>\n",
       "    .dataframe tbody tr th:only-of-type {\n",
       "        vertical-align: middle;\n",
       "    }\n",
       "\n",
       "    .dataframe tbody tr th {\n",
       "        vertical-align: top;\n",
       "    }\n",
       "\n",
       "    .dataframe thead th {\n",
       "        text-align: right;\n",
       "    }\n",
       "</style>\n",
       "<table border=\"1\" class=\"dataframe\">\n",
       "  <thead>\n",
       "    <tr style=\"text-align: right;\">\n",
       "      <th></th>\n",
       "      <th>rows_read_per_min</th>\n",
       "      <th>interval</th>\n",
       "      <th>timestamp</th>\n",
       "    </tr>\n",
       "  </thead>\n",
       "  <tbody>\n",
       "    <tr>\n",
       "      <td>0</td>\n",
       "      <td>5134</td>\n",
       "      <td>304843</td>\n",
       "      <td>1594359945265</td>\n",
       "    </tr>\n",
       "    <tr>\n",
       "      <td>1</td>\n",
       "      <td>903</td>\n",
       "      <td>297162</td>\n",
       "      <td>1594360242427</td>\n",
       "    </tr>\n",
       "    <tr>\n",
       "      <td>2</td>\n",
       "      <td>921</td>\n",
       "      <td>302516</td>\n",
       "      <td>1594360544943</td>\n",
       "    </tr>\n",
       "    <tr>\n",
       "      <td>3</td>\n",
       "      <td>5204</td>\n",
       "      <td>300811</td>\n",
       "      <td>1594360845754</td>\n",
       "    </tr>\n",
       "    <tr>\n",
       "      <td>4</td>\n",
       "      <td>898</td>\n",
       "      <td>298708</td>\n",
       "      <td>1594361144462</td>\n",
       "    </tr>\n",
       "    <tr>\n",
       "      <td>5</td>\n",
       "      <td>904</td>\n",
       "      <td>299097</td>\n",
       "      <td>1594361443559</td>\n",
       "    </tr>\n",
       "    <tr>\n",
       "      <td>6</td>\n",
       "      <td>5163</td>\n",
       "      <td>304112</td>\n",
       "      <td>1594361747671</td>\n",
       "    </tr>\n",
       "    <tr>\n",
       "      <td>7</td>\n",
       "      <td>1216</td>\n",
       "      <td>298479</td>\n",
       "      <td>1594362046150</td>\n",
       "    </tr>\n",
       "    <tr>\n",
       "      <td>8</td>\n",
       "      <td>901</td>\n",
       "      <td>297907</td>\n",
       "      <td>1594362344057</td>\n",
       "    </tr>\n",
       "    <tr>\n",
       "      <td>9</td>\n",
       "      <td>5204</td>\n",
       "      <td>301856</td>\n",
       "      <td>1594362645913</td>\n",
       "    </tr>\n",
       "    <tr>\n",
       "      <td>10</td>\n",
       "      <td>883</td>\n",
       "      <td>298343</td>\n",
       "      <td>1594362944256</td>\n",
       "    </tr>\n",
       "    <tr>\n",
       "      <td>11</td>\n",
       "      <td>893</td>\n",
       "      <td>300146</td>\n",
       "      <td>1594363244402</td>\n",
       "    </tr>\n",
       "    <tr>\n",
       "      <td>12</td>\n",
       "      <td>5197</td>\n",
       "      <td>302404</td>\n",
       "      <td>1594363546806</td>\n",
       "    </tr>\n",
       "    <tr>\n",
       "      <td>13</td>\n",
       "      <td>879</td>\n",
       "      <td>298441</td>\n",
       "      <td>1594363845247</td>\n",
       "    </tr>\n",
       "  </tbody>\n",
       "</table>\n",
       "</div>"
      ],
      "text/plain": [
       "    rows_read_per_min  interval      timestamp\n",
       "0                5134    304843  1594359945265\n",
       "1                 903    297162  1594360242427\n",
       "2                 921    302516  1594360544943\n",
       "3                5204    300811  1594360845754\n",
       "4                 898    298708  1594361144462\n",
       "5                 904    299097  1594361443559\n",
       "6                5163    304112  1594361747671\n",
       "7                1216    298479  1594362046150\n",
       "8                 901    297907  1594362344057\n",
       "9                5204    301856  1594362645913\n",
       "10                883    298343  1594362944256\n",
       "11                893    300146  1594363244402\n",
       "12               5197    302404  1594363546806\n",
       "13                879    298441  1594363845247"
      ]
     },
     "execution_count": 26,
     "metadata": {},
     "output_type": "execute_result"
    }
   ],
   "source": [
    "if jData['count'] > 0:\n",
    "    df = pd.DataFrame(json_normalize(jData['timeseries'])) #extract just the timeseries data\n",
    "    # print('Available Columns')\n",
    "    # print(', '.join(list(df)))\n",
    "else: \n",
    "    print('No data returned')\n",
    "    \n",
    "df"
   ]
  },
  {
   "cell_type": "markdown",
   "metadata": {},
   "source": [
    "## Summary\n",
    "Using RESTful calls to Db2 removes much of the complexity of communicating with the database. There are no drivers required, no configuration file, nor any administration required on the client that is communicating with the database. All communication is done using RESTful API calls, which are available on all browsers and all operating systems. The calls to the database are replaced with standard POST and GET requests. Enabling RESTful support to Db2 opens up the type of applications that you can write and clients that you can connect to Db2 with."
   ]
  },
  {
   "cell_type": "markdown",
   "metadata": {},
   "source": [
    "#### Credits:  IBM 2020, Stefan Hummel [stefan.hummel@de.ibm.com]"
   ]
  },
  {
   "cell_type": "markdown",
   "metadata": {},
   "source": [
    "<br>\n",
    "<br>\n",
    "<br>\n",
    "<br>\n",
    "<br>\n",
    "<br>\n",
    "<br>\n",
    "<br>\n",
    "<br>\n",
    "\n",
    "## Apendix"
   ]
  },
  {
   "cell_type": "markdown",
   "metadata": {},
   "source": [
    "### Example: Lists active database connections"
   ]
  },
  {
   "cell_type": "code",
   "execution_count": null,
   "metadata": {},
   "outputs": [],
   "source": [
    "conn.request(\"GET\", \"/dbapi/v4/monitor/connections\", headers=headers)\n",
    "\n",
    "res = conn.getresponse()\n",
    "data = res.read()\n",
    "\n",
    "# print(data.decode(\"utf-8\"))"
   ]
  },
  {
   "cell_type": "code",
   "execution_count": null,
   "metadata": {},
   "outputs": [],
   "source": [
    "data_dict = json.loads(data)\n",
    "df = data_dict['resources']\n",
    "data_dict"
   ]
  },
  {
   "cell_type": "code",
   "execution_count": null,
   "metadata": {},
   "outputs": [],
   "source": [
    "x = pd.DataFrame(data_dict['resources'])  \n",
    "x"
   ]
  },
  {
   "cell_type": "code",
   "execution_count": null,
   "metadata": {},
   "outputs": [],
   "source": [
    "pd.DataFrame(data_dict['resources']).plot.barh( x=\"schema\"\n",
    "                                               ,y=\"data_physical_size_kb\"\n",
    "                                               ,title=\"Physical Storage Usage by Schema\"\n",
    "                                               ,figsize=(14, 7)\n",
    "                                               ,zorder=2, width=0.85\n",
    "                                               ,color=\"red\")\n",
    "plt.show()"
   ]
  }
 ],
 "metadata": {
  "kernelspec": {
   "display_name": "Python 3",
   "language": "python",
   "name": "python3"
  },
  "language_info": {
   "codemirror_mode": {
    "name": "ipython",
    "version": 3
   },
   "file_extension": ".py",
   "mimetype": "text/x-python",
   "name": "python",
   "nbconvert_exporter": "python",
   "pygments_lexer": "ipython3",
   "version": "3.7.4"
  }
 },
 "nbformat": 4,
 "nbformat_minor": 2
}
